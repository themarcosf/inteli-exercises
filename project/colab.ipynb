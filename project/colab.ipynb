{
  "nbformat": 4,
  "nbformat_minor": 0,
  "metadata": {
    "colab": {
      "provenance": []
    },
    "kernelspec": {
      "name": "python3",
      "display_name": "Python 3"
    },
    "language_info": {
      "name": "python"
    }
  },
  "cells": [
    {
      "cell_type": "markdown",
      "source": [
        "# Criação de um Pacote Python para Ingestão de Dados da Pokédex"
      ],
      "metadata": {
        "id": "Y-buYi1FnlEK"
      }
    },
    {
      "cell_type": "markdown",
      "source": [
        "## Introdução\n",
        "\n",
        "Este estudo foca no desenvolvimento de um pacote Python para a ingestão de dados de uma API da Pokédex. O objetivo é armazenar os dados em um bucket ou banco de dados na nuvem, aprimorando as habilidades em Python, APIs e operações em nuvem."
      ],
      "metadata": {
        "id": "swDWssLroUXq"
      }
    },
    {
      "cell_type": "markdown",
      "source": [
        "## Configuração do Ambiente\n",
        "\n",
        "Antes de iniciar, certifique-se de que seu ambiente Python está configurado com as seguintes ferramentas e bibliotecas:\n",
        "- Python 3.x\n",
        "- pip ou Poetry (gerenciador de pacotes Python)\n",
        "- Bibliotecas: `requests`, `boto3` (para AWS) ou outra biblioteca de cliente de nuvem."
      ],
      "metadata": {
        "id": "2fM4Zb1ZoYfS"
      }
    },
    {
      "cell_type": "markdown",
      "source": [
        "## Parte 1: Exploração da API da Pokédex\n",
        "\n",
        "1. **Entenda a API**: Acesse a documentação da API da Pokédex e familiarize-se com seus endpoints e respostas.\n",
        "2. **Primeiras Requisições**: Utilize a biblioteca `requests` para fazer chamadas simples e entender a estrutura dos dados retornados."
      ],
      "metadata": {
        "id": "B-h6BT5zobYh"
      }
    },
    {
      "cell_type": "markdown",
      "source": [
        "## Parte 2: Desenvolvimento do Pacote Python\n",
        "\n",
        "1. **Estruturação do Pacote**: Crie um diretório para o seu pacote. Dentro dele, inclua módulos como `api.py` (para interação com a API) e `storage.py` (para interação com o bucket ou banco de dados).\n",
        "2. **Implementação**: Desenvolva funções para extrair os dados da API e enviá-los para a nuvem.\n",
        "3. **Testes**: Escreva testes para garantir a funcionalidade do seu pacote."
      ],
      "metadata": {
        "id": "MUZFZ52Modw6"
      }
    },
    {
      "cell_type": "markdown",
      "source": [
        "## Parte 3: Armazenamento na Nuvem\n",
        "\n",
        "1. **Configuração**: Configure o acesso ao seu bucket ou banco de dados na nuvem.\n",
        "2. **Upload dos Dados**: Utilize a funcionalidade de armazenamento do seu pacote para enviar os dados obtidos da API para a nuvem."
      ],
      "metadata": {
        "id": "AE0nhkzSohqS"
      }
    },
    {
      "cell_type": "markdown",
      "source": [
        "## Estrutura do Pacote Python e Instalação\n",
        "\n",
        "Nesta seção, vamos explorar a estrutura do pacote Python que você irá criar, juntamente com detalhes sobre a instalação e arquivos importantes como `requirements.txt`, `Makefile` ou mesmo `pyproject.toml`\n",
        "\n",
        "### Estrutura do Pacote\n",
        "\n",
        "Um pacote Python típico tem a seguinte estrutura de diretórios e arquivos:\n",
        "\n",
        "```text\n",
        "meu_pacote/\n",
        "├── meu_modulo/\n",
        "│   ├── __init__.py\n",
        "│   ├── api.py\n",
        "│   └── storage.py\n",
        "├── tests/\n",
        "│   ├── __init__.py\n",
        "│   ├── test_api.py\n",
        "│   └── test_storage.py\n",
        "├── setup.py\n",
        "├── requirements.txt ou pyproject.toml\n",
        "├── Makefile\n",
        "└── README.md\n",
        "```\n",
        "\n",
        "* `meu_pacote/`: Diretório principal do seu pacote.\n",
        "    * `__init__.py`: Indica que este diretório é um pacote Python.\n",
        "    * `api.py`: Módulo para interagir com a API da Pokédex.\n",
        "    * `storage.py`: Módulo para gerenciar o armazenamento de dados na nuvem.\n",
        "* `tests/`: Diretório contendo testes para o seu pacote.\n",
        "* `setup.py`: Script para instalar o pacote.\n",
        "* `requirements.txt`: Lista de dependências necessárias para o pacote.\n",
        "* `Makefile`: Facilita a execução de comandos comuns.\n",
        "* `README.md`: Documentação básica do seu pacote.\n",
        "\n",
        "#### Instalação com pip\n",
        "\n",
        "Para instalar o pacote, o usuário final deve navegar até o diretório raiz do pacote e executar o seguinte comando:\n",
        "\n",
        "```bash\n",
        "pip install .\n",
        "```\n",
        "\n",
        "Esse comando irá instalar o pacote no ambiente Python ativo. O ponto `.` no comando indica que o `pip` deve procurar o `setup.py` no diretório atual.\n",
        "\n",
        "#### Arquivo requirements.txt\n",
        "\n",
        "O arquivo `requirements.txt` lista todas as bibliotecas externas que seu pacote precisa. Para instalar estas dependências, execute:\n",
        "\n",
        "```bash\n",
        "pip install -r requirements.txt\n",
        "```\n",
        "\n",
        "#### Makefile\n",
        "\n",
        "O `Makefile` é utilizado para simplificar a execução de comandos complexos. Por exemplo, você pode ter um comando `make install` que executa os comandos de instalação do pacote e suas dependências.\n",
        "\n",
        "```makefile\n",
        "install:\n",
        "    pip install -r requirements.txt\n",
        "    pip install .\n",
        "```"
      ],
      "metadata": {
        "id": "3LOTcs_aox0x"
      }
    },
    {
      "cell_type": "markdown",
      "source": [
        "## Conclusão\n",
        "\n",
        "Ao final deste estudo, você terá um pacote Python para ser utilizado em um jupyter notebook capaz de ingerir dados de uma API externa e armazená-los na nuvem, ampliando seu conhecimento em programação, APIs e cloud computing."
      ],
      "metadata": {
        "id": "ii0J8UCgoj0Z"
      }
    },
    {
      "cell_type": "markdown",
      "source": [
        "## Referências\n",
        "\n",
        "- [Documentação da API da Pokédex](URL_da_API)\n",
        "- [Python Requests Library](https://docs.python-requests.org/)"
      ],
      "metadata": {
        "id": "ZxAHqEPkolGR"
      }
    }
  ]
}